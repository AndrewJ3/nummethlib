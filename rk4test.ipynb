{
 "cells": [
  {
   "cell_type": "code",
   "execution_count": null,
   "metadata": {},
   "outputs": [],
   "source": [
    "def rk41(a,b,f,N,y):\n",
    "    h=(b-a)/(N-1)\n",
    "    t=np.linspace(a,b,N)\n",
    "    w1=[y]\n",
    "    for i in range(0,N-1):\n",
    "        k1=h*f(t[i],y)\n",
    "        k2=h*f(t[i]+(h/2),y+(k1/2))\n",
    "        k3=h*f(t[i]+(h/2),y+(k2/2))\n",
    "        k4=h*f(t[i]+h,y+k3)\n",
    "        y=y+(k1/6)+(k2/3)+(k3/3)+(k4/6)\n",
    "        w1.append(y)\n",
    "    return w1,t"
   ]
  }
 ],
 "metadata": {
  "kernelspec": {
   "display_name": "Python 3",
   "language": "python",
   "name": "python3"
  },
  "language_info": {
   "codemirror_mode": {
    "name": "ipython",
    "version": 3
   },
   "file_extension": ".py",
   "mimetype": "text/x-python",
   "name": "python",
   "nbconvert_exporter": "python",
   "pygments_lexer": "ipython3",
   "version": "3.6.5"
  }
 },
 "nbformat": 4,
 "nbformat_minor": 2
}
