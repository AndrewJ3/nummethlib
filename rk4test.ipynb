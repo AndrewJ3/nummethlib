{
 "cells": [
  {
   "cell_type": "code",
   "execution_count": 10,
   "metadata": {},
   "outputs": [],
   "source": [
    "import numpy as np\n",
    "import math as m\n",
    "%matplotlib inline\n",
    "import matplotlib.pyplot as plt\n",
    "from mpl_toolkits import mplot3d\n",
    "from sympy import init_session\n",
    "from scipy.fftpack import dct,idct,fft,ifft,dst,idst\n",
    "from scipy import linalg as la\n",
    "import scipy.sparse as sp\n",
    "from scipy.sparse.linalg import spsolve\n",
    "from scipy.stats import linregress as linreg\n",
    "from sympy import*"
   ]
  },
  {
   "cell_type": "code",
   "execution_count": 11,
   "metadata": {},
   "outputs": [],
   "source": [
    "def relerr(uapprox,uexact):\n",
    "    return np.linalg.norm((uapprox-uexact),2)/np.linalg.norm((uexact),2)\n",
    "def abserr(uapprox,uexact):\n",
    "    return np.linalg.norm((uapprox-uexact))"
   ]
  },
  {
   "cell_type": "code",
   "execution_count": 80,
   "metadata": {},
   "outputs": [],
   "source": [
    "def f(t,y):\n",
    "    return y-(t**2) +1\n",
    "def yexact(t):\n",
    "    return t**2 +2*t +1 -0.5 *np.exp(t)"
   ]
  },
  {
   "cell_type": "markdown",
   "metadata": {},
   "source": [
    "# RK4 Test1"
   ]
  },
  {
   "cell_type": "code",
   "execution_count": 180,
   "metadata": {},
   "outputs": [],
   "source": [
    "def rk41(f,a,b,y,N):\n",
    "    dt=(b-a)/(N+1)\n",
    "    t=np.linspace(a,b,N+2)\n",
    "    ys=[y]\n",
    "    for i in range(0,N+1):\n",
    "        y1=h*f(t[i],y)\n",
    "        y2=h*f(t[i]+(dt/2),y+(y1/2))\n",
    "        y3=h*f(t[i]+(dt/2),y+(y2/2))\n",
    "        y4=h*f(t[i]+dt,y+y3)\n",
    "        y=y+(y1/6)+(y2/3)+(y3/3)+(y4/6)\n",
    "        ys.append(y)\n",
    "    return ys,t"
   ]
  },
  {
   "cell_type": "code",
   "execution_count": 192,
   "metadata": {},
   "outputs": [],
   "source": [
    "a,b=0,2\n",
    "y0=0.5\n",
    "# N=[50,100,200,400]\n",
    "N=[5,10,15]\n",
    "yn=[]\n",
    "tn=[]\n",
    "err1=[]\n",
    "for N in N:\n",
    "    y,t=rk41(f,a,b,y0,N)\n",
    "    yn.append(y)\n",
    "    tn.append(t)\n",
    "for i in range(0,len(yn)):\n",
    "    err=relerr(yn[i],yexact(tn[i]))\n",
    "    err1.append(err)"
   ]
  },
  {
   "cell_type": "markdown",
   "metadata": {},
   "source": [
    "# RK4 Test2"
   ]
  },
  {
   "cell_type": "code",
   "execution_count": 213,
   "metadata": {},
   "outputs": [],
   "source": [
    "def rk42(f,a,b,y,N):\n",
    "    dt=(b-a)/(N+1)\n",
    "    t=np.linspace(a,b,N+2)\n",
    "    ys=[y]\n",
    "    for i in range(0,N+1):\n",
    "        y1=h*f(t[i],y)\n",
    "        y2=h*f(t[i]+(dt/2),y+(y1/2))\n",
    "        y3=h*f(t[i]+(dt/2),y+(y2/2))\n",
    "        y4=h*f(t[i]+dt,y+y3)\n",
    "        y=y+(y1/6)+(y2/3)+(y3/3)+(y4/6)\n",
    "        ys.append(y)\n",
    "    return y,t"
   ]
  },
  {
   "cell_type": "code",
   "execution_count": 212,
   "metadata": {},
   "outputs": [
    {
     "name": "stdout",
     "output_type": "stream",
     "text": [
      "4091.4827821358726\n"
     ]
    }
   ],
   "source": [
    "a,b=0,2\n",
    "y0=0.5\n",
    "# N=[50,100,200,400]\n",
    "N=[5,10,15]\n",
    "yn=[]\n",
    "tn=[]\n",
    "err1=[]\n",
    "for N in N:\n",
    "    y,t=rk42(f,a,b,y0,N)\n",
    "    yn.append(y)\n",
    "    tn.append(t)\n",
    "for i in range(0,len(yn)):\n",
    "    err=relerr(yn[i],yexact(tn[i]))\n",
    "    err1.append(err)\n",
    "print(y)"
   ]
  },
  {
   "cell_type": "code",
   "execution_count": 191,
   "metadata": {},
   "outputs": [],
   "source": [
    "# N=[50,100,200,400]\n",
    "# plt.plot(N,err1)\n",
    "# order=-linreg(np.log(err1),np.log(N))[0]\n",
    "# order"
   ]
  },
  {
   "cell_type": "markdown",
   "metadata": {},
   "source": [
    "# Working RK4"
   ]
  },
  {
   "cell_type": "code",
   "execution_count": 238,
   "metadata": {},
   "outputs": [],
   "source": [
    "N=4\n",
    "a,b=0,2\n",
    "dt=(b-a)/(N+1)\n",
    "t=np.linspace(a,b,N+1)\n",
    "y0=0.5\n",
    "y=y0\n",
    "ys=[y]\n",
    "# for i in range(0,N):\n",
    "y1=dt*f(t,y)\n",
    "y2=dt*f(t+(dt/2),y+(y1/2))\n",
    "y3=dt*f(t+(dt/2),y+(y2/2))\n",
    "y4=dt*f(t+dt,y+y3)\n",
    "y=y+(y1/6)+(y2/3)+(y3/3)+(y4/6)\n",
    "ys.append(y)"
   ]
  },
  {
   "cell_type": "code",
   "execution_count": 239,
   "metadata": {},
   "outputs": [
    {
     "data": {
      "text/plain": [
       "[0.5, array([ 1.21392   ,  0.99925333,  0.53872   , -0.16768   , -1.11994667])]"
      ]
     },
     "execution_count": 239,
     "metadata": {},
     "output_type": "execute_result"
    }
   ],
   "source": [
    "ys"
   ]
  },
  {
   "cell_type": "code",
   "execution_count": 222,
   "metadata": {},
   "outputs": [],
   "source": [
    "N=5\n",
    "a,b=0,2\n",
    "dt=(b-a)/(N+1)\n",
    "t=np.linspace(a,b,N+2)\n",
    "y0=0.5\n",
    "y=y0\n",
    "ys=[y]\n",
    "for i in range(0,N+1):\n",
    "    y1=dt*f(t[i],y)\n",
    "    y2=dt*f(t[i]+(dt/2),y+(y1/2))\n",
    "    y3=dt*f(t[i]+(dt/2),y+(y2/2))\n",
    "    y4=dt*f(t[i]+dt,y+y3)\n",
    "    y=y+(y1/6)+(y2/3)+(y3/3)+(y4/6)\n",
    "    ys.append(y)"
   ]
  },
  {
   "cell_type": "code",
   "execution_count": 223,
   "metadata": {},
   "outputs": [
    {
     "data": {
      "text/plain": [
       "[0.5,\n",
       " 1.0799039780521262,\n",
       " 1.803756026068745,\n",
       " 2.640592757688646,\n",
       " 3.5472024099499118,\n",
       " 4.463279677854767,\n",
       " 5.304663917134194]"
      ]
     },
     "execution_count": 223,
     "metadata": {},
     "output_type": "execute_result"
    }
   ],
   "source": [
    "ys"
   ]
  }
 ],
 "metadata": {
  "kernelspec": {
   "display_name": "Python 3",
   "language": "python",
   "name": "python3"
  },
  "language_info": {
   "codemirror_mode": {
    "name": "ipython",
    "version": 3
   },
   "file_extension": ".py",
   "mimetype": "text/x-python",
   "name": "python",
   "nbconvert_exporter": "python",
   "pygments_lexer": "ipython3",
   "version": "3.6.5"
  }
 },
 "nbformat": 4,
 "nbformat_minor": 2
}
